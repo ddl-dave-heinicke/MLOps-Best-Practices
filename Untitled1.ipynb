{
 "cells": [
  {
   "cell_type": "code",
   "execution_count": 70,
   "id": "a2c7e4b0-602b-41e3-9dc0-84c7adf44f29",
   "metadata": {},
   "outputs": [
    {
     "name": "stdout",
     "output_type": "stream",
     "text": [
      "Checking whether there is an H2O instance running at http://localhost:54321 . connected.\n"
     ]
    },
    {
     "data": {
      "text/html": [
       "<div style=\"overflow:auto\"><table style=\"width:50%\"><tr><td>H2O_cluster_uptime:</td>\n",
       "<td>23 hours 31 mins</td></tr>\n",
       "<tr><td>H2O_cluster_timezone:</td>\n",
       "<td>Etc/UTC</td></tr>\n",
       "<tr><td>H2O_data_parsing_timezone:</td>\n",
       "<td>UTC</td></tr>\n",
       "<tr><td>H2O_cluster_version:</td>\n",
       "<td>3.36.1.3</td></tr>\n",
       "<tr><td>H2O_cluster_version_age:</td>\n",
       "<td>14 days and 4 hours </td></tr>\n",
       "<tr><td>H2O_cluster_name:</td>\n",
       "<td>H2O_from_python_ubuntu_5ws3lt</td></tr>\n",
       "<tr><td>H2O_cluster_total_nodes:</td>\n",
       "<td>1</td></tr>\n",
       "<tr><td>H2O_cluster_free_memory:</td>\n",
       "<td>921 Mb</td></tr>\n",
       "<tr><td>H2O_cluster_total_cores:</td>\n",
       "<td>1</td></tr>\n",
       "<tr><td>H2O_cluster_allowed_cores:</td>\n",
       "<td>1</td></tr>\n",
       "<tr><td>H2O_cluster_status:</td>\n",
       "<td>locked, healthy</td></tr>\n",
       "<tr><td>H2O_connection_url:</td>\n",
       "<td>http://localhost:54321</td></tr>\n",
       "<tr><td>H2O_connection_proxy:</td>\n",
       "<td>{\"http\": null, \"https\": null}</td></tr>\n",
       "<tr><td>H2O_internal_security:</td>\n",
       "<td>False</td></tr>\n",
       "<tr><td>Python_version:</td>\n",
       "<td>3.8.12 final</td></tr></table></div>"
      ],
      "text/plain": [
       "--------------------------  -----------------------------\n",
       "H2O_cluster_uptime:         23 hours 31 mins\n",
       "H2O_cluster_timezone:       Etc/UTC\n",
       "H2O_data_parsing_timezone:  UTC\n",
       "H2O_cluster_version:        3.36.1.3\n",
       "H2O_cluster_version_age:    14 days and 4 hours\n",
       "H2O_cluster_name:           H2O_from_python_ubuntu_5ws3lt\n",
       "H2O_cluster_total_nodes:    1\n",
       "H2O_cluster_free_memory:    921 Mb\n",
       "H2O_cluster_total_cores:    1\n",
       "H2O_cluster_allowed_cores:  1\n",
       "H2O_cluster_status:         locked, healthy\n",
       "H2O_connection_url:         http://localhost:54321\n",
       "H2O_connection_proxy:       {\"http\": null, \"https\": null}\n",
       "H2O_internal_security:      False\n",
       "Python_version:             3.8.12 final\n",
       "--------------------------  -----------------------------"
      ]
     },
     "metadata": {},
     "output_type": "display_data"
    }
   ],
   "source": [
    "import h2o\n",
    "from h2o.automl import H2OAutoML\n",
    "import pandas as pd\n",
    "import numpy as np\n",
    "\n",
    "# Start the H2O cluster (locally)\n",
    "h2o.init()"
   ]
  },
  {
   "cell_type": "code",
   "execution_count": 43,
   "id": "7149f98c-0d1b-49ea-9ea9-e5f26f87171b",
   "metadata": {},
   "outputs": [
    {
     "name": "stdout",
     "output_type": "stream",
     "text": [
      "Parse progress: |████████████████████████████████████████████████████████████████| (done) 100%\n"
     ]
    }
   ],
   "source": [
    "# Read in training data\n",
    "data = h2o.upload_file('/mnt/data/wine-quality/winequality-red.csv',\n",
    "               sep=';')\n",
    "type(data)\n",
    "\n",
    "train, valid = data.split_frame(ratios = [0.7], seed=42)\n",
    "\n",
    "# Identify predictors and response\n",
    "x = train.columns\n",
    "y = \"quality\"\n",
    "x.remove(y)"
   ]
  },
  {
   "cell_type": "code",
   "execution_count": 44,
   "id": "9b4b8600-6d6a-4b5e-a6a5-39e06eed6afd",
   "metadata": {},
   "outputs": [
    {
     "name": "stdout",
     "output_type": "stream",
     "text": [
      "AutoML progress: |███████████████████████████████████████████████████████████████| (done) 100%\n",
      "Model Details\n",
      "=============\n",
      "H2OStackedEnsembleEstimator :  Stacked Ensemble\n",
      "Model Key:  StackedEnsemble_BestOfFamily_1_AutoML_2_20220722_212101\n",
      "\n",
      "No model summary for this model\n",
      "\n",
      "ModelMetricsRegressionGLM: stackedensemble\n",
      "** Reported on train data. **\n",
      "\n",
      "MSE: 0.05512654383202626\n",
      "RMSE: 0.23479042534146544\n",
      "MAE: 0.1688303219135853\n",
      "RMSLE: 0.037267263498201204\n",
      "R^2: 0.9152413285273902\n",
      "Mean Residual Deviance: 0.05512654383202626\n",
      "Null degrees of freedom: 1134\n",
      "Residual degrees of freedom: 1131\n",
      "Null deviance: 738.1973568281845\n",
      "Residual deviance: 62.56862724934981\n",
      "AIC: -58.38020105338771\n",
      "\n",
      "ModelMetricsRegressionGLM: stackedensemble\n",
      "** Reported on cross-validation data. **\n",
      "\n",
      "MSE: 0.3463560927936076\n",
      "RMSE: 0.5885202569101659\n",
      "MAE: 0.4287810931746585\n",
      "RMSLE: 0.09134515174403522\n",
      "R^2: 0.46746738973729873\n",
      "Mean Residual Deviance: 0.3463560927936076\n",
      "Null degrees of freedom: 1134\n",
      "Residual degrees of freedom: 1131\n",
      "Null deviance: 738.4755547746929\n",
      "Residual deviance: 393.1141653207446\n",
      "AIC: 2027.5637456051802\n",
      "\n",
      "Cross-Validation Metrics Summary: \n"
     ]
    },
    {
     "data": {
      "text/html": [
       "<div>\n",
       "<style scoped>\n",
       "    .dataframe tbody tr th:only-of-type {\n",
       "        vertical-align: middle;\n",
       "    }\n",
       "\n",
       "    .dataframe tbody tr th {\n",
       "        vertical-align: top;\n",
       "    }\n",
       "\n",
       "    .dataframe thead th {\n",
       "        text-align: right;\n",
       "    }\n",
       "</style>\n",
       "<table border=\"1\" class=\"dataframe\">\n",
       "  <thead>\n",
       "    <tr style=\"text-align: right;\">\n",
       "      <th></th>\n",
       "      <th></th>\n",
       "      <th>mean</th>\n",
       "      <th>sd</th>\n",
       "      <th>cv_1_valid</th>\n",
       "      <th>cv_2_valid</th>\n",
       "      <th>cv_3_valid</th>\n",
       "      <th>cv_4_valid</th>\n",
       "      <th>cv_5_valid</th>\n",
       "    </tr>\n",
       "  </thead>\n",
       "  <tbody>\n",
       "    <tr>\n",
       "      <th>0</th>\n",
       "      <td>mae</td>\n",
       "      <td>0.429970</td>\n",
       "      <td>0.025753</td>\n",
       "      <td>0.459097</td>\n",
       "      <td>0.452690</td>\n",
       "      <td>0.398593</td>\n",
       "      <td>0.426599</td>\n",
       "      <td>0.412870</td>\n",
       "    </tr>\n",
       "    <tr>\n",
       "      <th>1</th>\n",
       "      <td>mean_residual_deviance</td>\n",
       "      <td>0.346252</td>\n",
       "      <td>0.038581</td>\n",
       "      <td>0.383339</td>\n",
       "      <td>0.388810</td>\n",
       "      <td>0.301131</td>\n",
       "      <td>0.337218</td>\n",
       "      <td>0.320763</td>\n",
       "    </tr>\n",
       "    <tr>\n",
       "      <th>2</th>\n",
       "      <td>mse</td>\n",
       "      <td>0.346252</td>\n",
       "      <td>0.038581</td>\n",
       "      <td>0.383339</td>\n",
       "      <td>0.388810</td>\n",
       "      <td>0.301131</td>\n",
       "      <td>0.337218</td>\n",
       "      <td>0.320763</td>\n",
       "    </tr>\n",
       "    <tr>\n",
       "      <th>3</th>\n",
       "      <td>null_deviance</td>\n",
       "      <td>147.695110</td>\n",
       "      <td>16.495460</td>\n",
       "      <td>164.053960</td>\n",
       "      <td>162.681370</td>\n",
       "      <td>123.895350</td>\n",
       "      <td>143.114240</td>\n",
       "      <td>144.730640</td>\n",
       "    </tr>\n",
       "    <tr>\n",
       "      <th>4</th>\n",
       "      <td>r2</td>\n",
       "      <td>0.466899</td>\n",
       "      <td>0.021956</td>\n",
       "      <td>0.455007</td>\n",
       "      <td>0.453659</td>\n",
       "      <td>0.457784</td>\n",
       "      <td>0.462321</td>\n",
       "      <td>0.505726</td>\n",
       "    </tr>\n",
       "    <tr>\n",
       "      <th>5</th>\n",
       "      <td>residual_deviance</td>\n",
       "      <td>78.706955</td>\n",
       "      <td>9.997133</td>\n",
       "      <td>89.318040</td>\n",
       "      <td>88.648680</td>\n",
       "      <td>67.152100</td>\n",
       "      <td>76.885810</td>\n",
       "      <td>71.530160</td>\n",
       "    </tr>\n",
       "    <tr>\n",
       "      <th>6</th>\n",
       "      <td>rmse</td>\n",
       "      <td>0.587702</td>\n",
       "      <td>0.032768</td>\n",
       "      <td>0.619144</td>\n",
       "      <td>0.623546</td>\n",
       "      <td>0.548754</td>\n",
       "      <td>0.580705</td>\n",
       "      <td>0.566359</td>\n",
       "    </tr>\n",
       "    <tr>\n",
       "      <th>7</th>\n",
       "      <td>rmsle</td>\n",
       "      <td>0.091201</td>\n",
       "      <td>0.005704</td>\n",
       "      <td>0.094119</td>\n",
       "      <td>0.099251</td>\n",
       "      <td>0.084245</td>\n",
       "      <td>0.089660</td>\n",
       "      <td>0.088733</td>\n",
       "    </tr>\n",
       "  </tbody>\n",
       "</table>\n",
       "</div>"
      ],
      "text/plain": [
       "                                 mean         sd  cv_1_valid  cv_2_valid  \\\n",
       "0                     mae    0.429970   0.025753    0.459097    0.452690   \n",
       "1  mean_residual_deviance    0.346252   0.038581    0.383339    0.388810   \n",
       "2                     mse    0.346252   0.038581    0.383339    0.388810   \n",
       "3           null_deviance  147.695110  16.495460  164.053960  162.681370   \n",
       "4                      r2    0.466899   0.021956    0.455007    0.453659   \n",
       "5       residual_deviance   78.706955   9.997133   89.318040   88.648680   \n",
       "6                    rmse    0.587702   0.032768    0.619144    0.623546   \n",
       "7                   rmsle    0.091201   0.005704    0.094119    0.099251   \n",
       "\n",
       "   cv_3_valid  cv_4_valid  cv_5_valid  \n",
       "0    0.398593    0.426599    0.412870  \n",
       "1    0.301131    0.337218    0.320763  \n",
       "2    0.301131    0.337218    0.320763  \n",
       "3  123.895350  143.114240  144.730640  \n",
       "4    0.457784    0.462321    0.505726  \n",
       "5   67.152100   76.885810   71.530160  \n",
       "6    0.548754    0.580705    0.566359  \n",
       "7    0.084245    0.089660    0.088733  "
      ]
     },
     "metadata": {},
     "output_type": "display_data"
    },
    {
     "data": {
      "text/plain": []
     },
     "execution_count": 44,
     "metadata": {},
     "output_type": "execute_result"
    }
   ],
   "source": [
    "# Run AutoML for 20 base models\n",
    "aml = H2OAutoML(max_models=5, seed=1)\n",
    "aml.train(x=x, y=y, training_frame=train)"
   ]
  },
  {
   "cell_type": "code",
   "execution_count": 45,
   "id": "a5443191-3d6c-4f94-9dc8-cc86ac0f9049",
   "metadata": {},
   "outputs": [
    {
     "data": {
      "text/html": [
       "<table>\n",
       "<thead>\n",
       "<tr><th>model_id                                               </th><th style=\"text-align: right;\">    rmse</th><th style=\"text-align: right;\">     mse</th><th style=\"text-align: right;\">     mae</th><th style=\"text-align: right;\">    rmsle</th><th style=\"text-align: right;\">  mean_residual_deviance</th></tr>\n",
       "</thead>\n",
       "<tbody>\n",
       "<tr><td>StackedEnsemble_BestOfFamily_1_AutoML_2_20220722_212101</td><td style=\"text-align: right;\">0.58852 </td><td style=\"text-align: right;\">0.346356</td><td style=\"text-align: right;\">0.428781</td><td style=\"text-align: right;\">0.0913452</td><td style=\"text-align: right;\">                0.346356</td></tr>\n",
       "<tr><td>StackedEnsemble_AllModels_1_AutoML_2_20220722_212101   </td><td style=\"text-align: right;\">0.590317</td><td style=\"text-align: right;\">0.348474</td><td style=\"text-align: right;\">0.427209</td><td style=\"text-align: right;\">0.0915986</td><td style=\"text-align: right;\">                0.348474</td></tr>\n",
       "<tr><td>DRF_1_AutoML_2_20220722_212101                         </td><td style=\"text-align: right;\">0.593968</td><td style=\"text-align: right;\">0.352798</td><td style=\"text-align: right;\">0.434245</td><td style=\"text-align: right;\">0.0922304</td><td style=\"text-align: right;\">                0.352798</td></tr>\n",
       "<tr><td>XGBoost_1_AutoML_2_20220722_212101                     </td><td style=\"text-align: right;\">0.634193</td><td style=\"text-align: right;\">0.402201</td><td style=\"text-align: right;\">0.461231</td><td style=\"text-align: right;\">0.0982685</td><td style=\"text-align: right;\">                0.402201</td></tr>\n",
       "<tr><td>GBM_1_AutoML_2_20220722_212101                         </td><td style=\"text-align: right;\">0.635433</td><td style=\"text-align: right;\">0.403776</td><td style=\"text-align: right;\">0.493467</td><td style=\"text-align: right;\">0.0982478</td><td style=\"text-align: right;\">                0.403776</td></tr>\n",
       "<tr><td>XGBoost_2_AutoML_2_20220722_212101                     </td><td style=\"text-align: right;\">0.651582</td><td style=\"text-align: right;\">0.424559</td><td style=\"text-align: right;\">0.458435</td><td style=\"text-align: right;\">0.10078  </td><td style=\"text-align: right;\">                0.424559</td></tr>\n",
       "<tr><td>GLM_1_AutoML_2_20220722_212101                         </td><td style=\"text-align: right;\">0.666017</td><td style=\"text-align: right;\">0.443579</td><td style=\"text-align: right;\">0.519644</td><td style=\"text-align: right;\">0.10266  </td><td style=\"text-align: right;\">                0.443579</td></tr>\n",
       "</tbody>\n",
       "</table>"
      ]
     },
     "metadata": {},
     "output_type": "display_data"
    },
    {
     "data": {
      "text/plain": []
     },
     "execution_count": 45,
     "metadata": {},
     "output_type": "execute_result"
    }
   ],
   "source": [
    "lb = aml.leaderboard\n",
    "lb_sorted = lb.sort('rmse')\n",
    "lb.head(rows=lb.nrows)"
   ]
  },
  {
   "cell_type": "code",
   "execution_count": 61,
   "id": "2ec4b96b-fb14-41d0-86dc-4ceb524f35dd",
   "metadata": {},
   "outputs": [
    {
     "name": "stdout",
     "output_type": "stream",
     "text": [
      "(464, 1)\n",
      "(464, 12)\n"
     ]
    }
   ],
   "source": [
    "print(preds.shape)\n",
    "print(valid.shape)\n",
    "# type(valid)"
   ]
  },
  {
   "cell_type": "code",
   "execution_count": 87,
   "id": "5c7117ae-f979-4ece-a0e7-20b6e060911f",
   "metadata": {},
   "outputs": [
    {
     "name": "stdout",
     "output_type": "stream",
     "text": [
      "stackedensemble prediction progress: |███████████████████████████████████████████| (done) 100%\n",
      "<class 'pandas.core.frame.DataFrame'>\n",
      "MAE: 0.40\n"
     ]
    },
    {
     "data": {
      "text/html": [
       "<div>\n",
       "<style scoped>\n",
       "    .dataframe tbody tr th:only-of-type {\n",
       "        vertical-align: middle;\n",
       "    }\n",
       "\n",
       "    .dataframe tbody tr th {\n",
       "        vertical-align: top;\n",
       "    }\n",
       "\n",
       "    .dataframe thead th {\n",
       "        text-align: right;\n",
       "    }\n",
       "</style>\n",
       "<table border=\"1\" class=\"dataframe\">\n",
       "  <thead>\n",
       "    <tr style=\"text-align: right;\">\n",
       "      <th></th>\n",
       "      <th>predict</th>\n",
       "      <th>actuals</th>\n",
       "      <th>ABS_Error</th>\n",
       "    </tr>\n",
       "  </thead>\n",
       "  <tbody>\n",
       "    <tr>\n",
       "      <th>0</th>\n",
       "      <td>5.363623</td>\n",
       "      <td>5</td>\n",
       "      <td>0.363623</td>\n",
       "    </tr>\n",
       "    <tr>\n",
       "      <th>1</th>\n",
       "      <td>4.989633</td>\n",
       "      <td>5</td>\n",
       "      <td>0.010367</td>\n",
       "    </tr>\n",
       "    <tr>\n",
       "      <th>2</th>\n",
       "      <td>5.001871</td>\n",
       "      <td>5</td>\n",
       "      <td>0.001871</td>\n",
       "    </tr>\n",
       "    <tr>\n",
       "      <th>3</th>\n",
       "      <td>5.017100</td>\n",
       "      <td>5</td>\n",
       "      <td>0.017100</td>\n",
       "    </tr>\n",
       "    <tr>\n",
       "      <th>4</th>\n",
       "      <td>5.335201</td>\n",
       "      <td>6</td>\n",
       "      <td>0.664799</td>\n",
       "    </tr>\n",
       "  </tbody>\n",
       "</table>\n",
       "</div>"
      ],
      "text/plain": [
       "    predict  actuals  ABS_Error\n",
       "0  5.363623        5   0.363623\n",
       "1  4.989633        5   0.010367\n",
       "2  5.001871        5   0.001871\n",
       "3  5.017100        5   0.017100\n",
       "4  5.335201        6   0.664799"
      ]
     },
     "execution_count": 87,
     "metadata": {},
     "output_type": "execute_result"
    }
   ],
   "source": [
    "model = m = aml.get_best_model()\n",
    "preds = h2o.as_list(aml.leader.predict(valid))\n",
    "print(type(preds))\n",
    "preds['actuals'] = h2o.as_list(valid)['quality']\n",
    "\n",
    "preds['ABS_Error'] = preds['predict'] - preds['actuals']\n",
    "preds['ABS_Error'] = preds['ABS_Error'].apply(lambda x: abs(x))\n",
    "\n",
    "print('MAE: %0.2f' % np.mean(preds['ABS_Error']))\n",
    "\n",
    "preds.head()\n"
   ]
  },
  {
   "cell_type": "code",
   "execution_count": null,
   "id": "cfe016d1-46db-45ab-8556-4428364d1d52",
   "metadata": {},
   "outputs": [],
   "source": []
  }
 ],
 "metadata": {
  "kernelspec": {
   "display_name": "Python 3 (ipykernel)",
   "language": "python",
   "name": "python3"
  },
  "language_info": {
   "codemirror_mode": {
    "name": "ipython",
    "version": 3
   },
   "file_extension": ".py",
   "mimetype": "text/x-python",
   "name": "python",
   "nbconvert_exporter": "python",
   "pygments_lexer": "ipython3",
   "version": "3.8.12"
  }
 },
 "nbformat": 4,
 "nbformat_minor": 5
}
